{
 "cells": [
  {
   "cell_type": "code",
   "execution_count": null,
   "metadata": {},
   "outputs": [],
   "source": [
    "import os\n",
    "import time\n",
    "\n",
    "main_dir = r\"\\\\lawoffice\\Applications\\ScanDocs\\ΔΕΗ\\Έργο Αγωγών 2024\\2. Έγγραφα\"\n",
    "\n",
    "def find_non_merged(main):\n",
    "    date_list = []\n",
    "    paroxi_list = []\n",
    "\n",
    "    index = 0  # Initialize index outside the loop\n",
    "\n",
    "    for root, dirs, files in os.walk(main):\n",
    "        relative_root = root.replace(main, \"\")\n",
    "        level = relative_root.count(os.sep)\n",
    "\n",
    "        if level == 1:\n",
    "            index = 1  # Reset index for each level 1 directory\n",
    "            date = os.path.basename(root)\n",
    "            print(date)\n",
    "        \n",
    "               \n",
    "        if level == 2:\n",
    "            paroxi = os.path.basename(root)\n",
    "            if any('merged' in file for file in files):\n",
    "            #    print(f\"Found merged file in main {paroxi}\")\n",
    "               continue\n",
    "            \n",
    "        if os.path.basename(relative_root) == 'Λογαριασμοί':\n",
    "            if not any('merged' in file for file in files):\n",
    "                date_list.append(date)\n",
    "                paroxi_list.append(paroxi)\n",
    "                print(f\"    {index}) {paroxi}\")\n",
    "                index += 1  # Increment index for entries under 'Λογαριασμοί'\n",
    "\n",
    "    return dict(zip(date_list, paroxi_list))\n",
    "#9:47 start 01_11_24 -> 2 minutes"
   ]
  },
  {
   "cell_type": "code",
   "execution_count": 2,
   "metadata": {},
   "outputs": [
    {
     "name": "stdout",
     "output_type": "stream",
     "text": [
      "01_11_2024\n",
      "    1) 82632205301\n",
      "    2) 82640007002\n",
      "04_11_2024\n",
      "Found merged file in main\n",
      "    1) 82450186902\n",
      "    2) 82450425802\n",
      "    3) 82450471501\n",
      "05_11_2024\n"
     ]
    },
    {
     "ename": "KeyboardInterrupt",
     "evalue": "",
     "output_type": "error",
     "traceback": [
      "\u001b[1;31m---------------------------------------------------------------------------\u001b[0m",
      "\u001b[1;31mKeyboardInterrupt\u001b[0m                         Traceback (most recent call last)",
      "Cell \u001b[1;32mIn[2], line 1\u001b[0m\n\u001b[1;32m----> 1\u001b[0m \u001b[43mfind_non_merged\u001b[49m\u001b[43m(\u001b[49m\u001b[43mmain_dir\u001b[49m\u001b[43m)\u001b[49m\n",
      "Cell \u001b[1;32mIn[1], line 12\u001b[0m, in \u001b[0;36mfind_non_merged\u001b[1;34m(main)\u001b[0m\n\u001b[0;32m      8\u001b[0m paroxi_list \u001b[38;5;241m=\u001b[39m []\n\u001b[0;32m     10\u001b[0m index \u001b[38;5;241m=\u001b[39m \u001b[38;5;241m0\u001b[39m  \u001b[38;5;66;03m# Initialize index outside the loop\u001b[39;00m\n\u001b[1;32m---> 12\u001b[0m \u001b[38;5;28;01mfor\u001b[39;00m root, dirs, files \u001b[38;5;129;01min\u001b[39;00m os\u001b[38;5;241m.\u001b[39mwalk(main):\n\u001b[0;32m     13\u001b[0m     relative_root \u001b[38;5;241m=\u001b[39m root\u001b[38;5;241m.\u001b[39mreplace(main, \u001b[38;5;124m\"\u001b[39m\u001b[38;5;124m\"\u001b[39m)\n\u001b[0;32m     14\u001b[0m     level \u001b[38;5;241m=\u001b[39m relative_root\u001b[38;5;241m.\u001b[39mcount(os\u001b[38;5;241m.\u001b[39msep)\n",
      "File \u001b[1;32m<frozen os>:419\u001b[0m, in \u001b[0;36m_walk\u001b[1;34m(top, topdown, onerror, followlinks)\u001b[0m\n",
      "File \u001b[1;32m<frozen os>:419\u001b[0m, in \u001b[0;36m_walk\u001b[1;34m(top, topdown, onerror, followlinks)\u001b[0m\n",
      "File \u001b[1;32m<frozen os>:419\u001b[0m, in \u001b[0;36m_walk\u001b[1;34m(top, topdown, onerror, followlinks)\u001b[0m\n",
      "File \u001b[1;32m<frozen os>:358\u001b[0m, in \u001b[0;36m_walk\u001b[1;34m(top, topdown, onerror, followlinks)\u001b[0m\n",
      "\u001b[1;31mKeyboardInterrupt\u001b[0m: "
     ]
    }
   ],
   "source": [
    "find_non_merged(main_dir)"
   ]
  },
  {
   "cell_type": "code",
   "execution_count": null,
   "metadata": {},
   "outputs": [],
   "source": []
  }
 ],
 "metadata": {
  "kernelspec": {
   "display_name": "Python 3",
   "language": "python",
   "name": "python3"
  },
  "language_info": {
   "codemirror_mode": {
    "name": "ipython",
    "version": 3
   },
   "file_extension": ".py",
   "mimetype": "text/x-python",
   "name": "python",
   "nbconvert_exporter": "python",
   "pygments_lexer": "ipython3",
   "version": "3.11.5"
  }
 },
 "nbformat": 4,
 "nbformat_minor": 2
}
