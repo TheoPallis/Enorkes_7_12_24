{
 "cells": [
  {
   "cell_type": "code",
   "execution_count": null,
   "metadata": {},
   "outputs": [],
   "source": [
    "from enorkes_main import main_function,test_main_function\n",
    "excel = r\"C:\\Users\\pallist\\Desktop\\Desktop\\ΤΡΕΧΟΝΤΑ\\Ένορκες\\90 12_12.xlsx\"\n",
    "\"\"\"Parameters:\n",
    "excel_file_path (str): The path to the Excel file containing the data.\n",
    "    filtered_date (str, optional): The date to filter the data by. Defaults to None.\n",
    "    filtered_name_list (list, optional): A list of names to filter the data by. Defaults to None.\n",
    "    head (int, optional): The number of rows to display. Defaults to None.\n",
    "    anathesi (str, optional): The number of the anathesi to filter the data by. Defaults to None.\n",
    "Returns:\n",
    "tuple: A tuple containing three elements:\n",
    "    mapping_files (dict): A dictionary containing the mapping files.\n",
    "    df3 (pandas.DataFrame): The filtered data.\n",
    "    mapping_folders (dict): A dictionary containing the mapping folders.\n",
    "\"\"\"\n",
    "mapping_files,df3,mapping_folders = main_function(excel)\n",
    "# test_main_function()\n"
   ]
  },
  {
   "cell_type": "code",
   "execution_count": null,
   "metadata": {},
   "outputs": [],
   "source": []
  },
  {
   "cell_type": "code",
   "execution_count": null,
   "metadata": {},
   "outputs": [],
   "source": []
  }
 ],
 "metadata": {
  "kernelspec": {
   "display_name": "Python 3",
   "language": "python",
   "name": "python3"
  },
  "language_info": {
   "codemirror_mode": {
    "name": "ipython",
    "version": 3
   },
   "file_extension": ".py",
   "mimetype": "text/x-python",
   "name": "python",
   "nbconvert_exporter": "python",
   "pygments_lexer": "ipython3",
   "version": "3.11.5"
  },
  "orig_nbformat": 4
 },
 "nbformat": 4,
 "nbformat_minor": 2
}
