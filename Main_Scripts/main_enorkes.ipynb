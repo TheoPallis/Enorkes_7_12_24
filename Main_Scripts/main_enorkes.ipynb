{
 "cells": [
  {
   "cell_type": "code",
   "execution_count": null,
   "metadata": {},
   "outputs": [],
   "source": [
    "from enorkes_main import main_function\n",
    "excel = r\"C:\\Users\\pallist\\Desktop\\Desktop\\ΤΡΕΧΟΝΤΑ\\Ένορκες\\90 12_12.xlsx\"\n",
    "# excel=r\"C:\\Users\\pallist\\Desktop\\Desktop\\ΤΡΕΧΟΝΤΑ\\Ένορκες\\Νέο pool ενόρκων Τακτική - Παλιές Μικροδιαφορές.xlsx\"\n",
    "filtered_name_list=['ΑΡΓΥΡΑΚΗΣ ΑΝΤΩΝΙΟΣ']\n",
    "mapping_files,kliseis_df = main_function(excel,filtered_name_list=filtered_name_list)#filtered_date=[\"19/12/2024\"],head=10)"
   ]
  }
 ],
 "metadata": {
  "kernelspec": {
   "display_name": "Python 3",
   "language": "python",
   "name": "python3"
  },
  "language_info": {
   "codemirror_mode": {
    "name": "ipython",
    "version": 3
   },
   "file_extension": ".py",
   "mimetype": "text/x-python",
   "name": "python",
   "nbconvert_exporter": "python",
   "pygments_lexer": "ipython3",
   "version": "3.11.5"
  },
  "orig_nbformat": 4
 },
 "nbformat": 4,
 "nbformat_minor": 2
}
