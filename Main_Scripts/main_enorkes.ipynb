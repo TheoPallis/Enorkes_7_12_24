{
 "cells": [
  {
   "cell_type": "code",
   "execution_count": 1,
   "metadata": {},
   "outputs": [
    {
     "data": {
      "text/plain": [
       "'Parameters:\\nexcel_file_path (str): The path to the Excel file containing the data.\\n    filtered_date (str, optional): The date to filter the data by. Defaults to None.\\n    filtered_name_list (list, optional): A list of names to filter the data by. Defaults to None.\\n    head (int, optional): The number of rows to display. Defaults to None.\\n    anathesi (str, optional): The number of the anathesi to filter the data by. Defaults to None.\\nReturns:\\ntuple: A tuple containing three elements:\\n    mapping_files (dict): A dictionary containing the mapping files.\\n    df3 (pandas.DataFrame): The filtered data.\\n    mapping_folders (dict): A dictionary containing the mapping folders.\\n'"
      ]
     },
     "execution_count": 1,
     "metadata": {},
     "output_type": "execute_result"
    }
   ],
   "source": [
    "from enorkes_main import main_function,test_main_function\n",
    "from Extact_Text import get_text_and_date\n",
    "excel = r\"C:\\Users\\pallist\\Desktop\\Desktop\\ΤΡΕΧΟΝΤΑ\\Ένορκες\\90 12_12.xlsx\"\n",
    "\"\"\"Parameters:\n",
    "excel_file_path (str): The path to the Excel file containing the data.\n",
    "    filtered_date (str, optional): The date to filter the data by. Defaults to None.\n",
    "    filtered_name_list (list, optional): A list of names to filter the data by. Defaults to None.\n",
    "    head (int, optional): The number of rows to display. Defaults to None.\n",
    "    anathesi (str, optional): The number of the anathesi to filter the data by. Defaults to None.\n",
    "Returns:\n",
    "tuple: A tuple containing three elements:\n",
    "    mapping_files (dict): A dictionary containing the mapping files.\n",
    "    df3 (pandas.DataFrame): The filtered data.\n",
    "    mapping_folders (dict): A dictionary containing the mapping folders.\n",
    "\"\"\"\n",
    "#16 minuts for 90 cases\n",
    "# mapping_files,df3,mapping_folders = main_function(excel,filtered_name_list=['ΜΟΥΚΟΣ ΙΩΑΝΝΗΣ'])\n",
    "# test_main_function()\n"
   ]
  },
  {
   "cell_type": "code",
   "execution_count": 2,
   "metadata": {},
   "outputs": [
    {
     "name": "stdout",
     "output_type": "stream",
     "text": [
      "Έγγραφο 2 : Το από 16/09/2022 και 11/07/2022 Δελτίο Αναφοράς Πιθανής Ρευματοκλοπής, συμπληρωμένο και υπογεγραμμένο από τον τεχνικό του ΔΕΔΔΗΕ που διενήργησε τον έλεγχο και εντόπισε την πιθανότητα ρευματοκλοπής (Σχετικό 1 και 1α αντίστοιχα)Τις ληφθείσες φωτογραφίες των ευρημάτων (Σχετικό 2)\n",
      "Έγγραφο 3 : Ένορκη βεβαίωση μάρτυρα – εμπειρογνώμονα, διαθέτοντα τις απαιτούμενες τεχνικές γνώσεις, από την οποία αποδεικνύεται ότι με βάση τα ευρήματα των ελέγχων, αλλά και τις μαρτυρίες του συνεργείου που πραγματοποίησε αυτούς, πράγματι, έλαβε χώρα ρευματοκλοπή, η οποία ζημίωσε την εταιρεία μας, κατά τα αναλυτικώς υπολογιζόμενα στα σχετικά έγγραφά της (βλ επιστολές, ανάλυση εκτίμησης κλπ) και κατά τα περιγραφόμενα στην παρούσα αγωγή μας (Σχετικό 3)\n",
      "Έγγραφο 4 : Το τυποποιημένο φύλλο υπολογισμού που εκδίδεται από την εταιρεία μας υπό τίτλο «ΑΝΑΛΥΣΗ ΕΚΤΙΜΗΣΗΣ ΜΗ ΚΑΤΑΓΡΑΦΕΙΣΑΣ ΕΝΕΡΓΕΙΑΣ ΚΑΙ ΥΠΟΛΟΓΙΣΜΟΣ ΚΑΤΑΛΟΓΙΖΟΜΕΝΩΝ ΠΟΣΩΝ» (Σχετικό 4)\n",
      "Έγγραφο 5 : Την υπ’ αριθμ πρωτ 163082/24-04-2024 επιστολή της εταιρείας μας προς τον εναγόμενο, που συντάχθηκε κατ’ άρθρα 95 § 12 του Κώδικα Διαχείρισης Δικτύου Διαχείρισης Διανομής Ηλεκτρικής Ενέργειας και 11 του Εγχειριδίου ρευματοκλοπών (Σχετικό 5)\n",
      "Έγγραφο 6 : Την από 16/09/2022 Αναφορ Τεχνικής Εργασίας (Σχετικό 6)\n",
      "Έγγραφο 7 : Αντίγραφο της παρούσας αγωγής μας (Σχετικό 7)\n",
      "Έγγραφο 7α : και την αντίστοιχη έκθεση επίδοσης αρμοδίου δικαστικού επιμελητή για την επίδοσή της στον αντίδικο (Σχετικό 7α)\n"
     ]
    }
   ],
   "source": [
    "_= get_text_and_date([r\"\\\\lawoffice\\Applications\\ScanDocs\\ΔΕΔΔΗΕ scandocs\\Υποθέσεις 151ης Ανάθεσης\\ΜΟΥΚΟΣ ΙΩΑΝΝΗΣ\\ΑΓΩΓΗ ΔΕΔΔΗΕ κατά ΜΟΥΚΟΥ ΙΩΑΝΝΗ.docx\"])"
   ]
  },
  {
   "cell_type": "code",
   "execution_count": null,
   "metadata": {},
   "outputs": [],
   "source": []
  }
 ],
 "metadata": {
  "kernelspec": {
   "display_name": "Python 3",
   "language": "python",
   "name": "python3"
  },
  "language_info": {
   "codemirror_mode": {
    "name": "ipython",
    "version": 3
   },
   "file_extension": ".py",
   "mimetype": "text/x-python",
   "name": "python",
   "nbconvert_exporter": "python",
   "pygments_lexer": "ipython3",
   "version": "3.11.5"
  },
  "orig_nbformat": 4
 },
 "nbformat": 4,
 "nbformat_minor": 2
}
