{
 "cells": [
  {
   "cell_type": "code",
   "execution_count": null,
   "metadata": {},
   "outputs": [],
   "source": [
    "# 1) Initial Mappings\n",
    "# import lists day_dict,month_dict,hours,martyras1a....,AITHOUSA,\n",
    "\n",
    "from Helper_Scripts.Mappings.Dikigoroi.map_lawyer_info import map_lawyer_info\n",
    "\n",
    "from tkinter import filedialog as fd\n",
    "import pandas as pd\n",
    "import os\n",
    "import numpy as np\n",
    "import pandas as pd\n",
    "import os\n",
    "os.chdir(r\"C:\\Users\\pallist\\Desktop\\ΤΡΕΧΟΝΤΑ\\Testing Folder\\Auto ενορκες\")\n",
    "mode = 'name'\n",
    "anathesi_word = 'ΑΝΑΘΕΣΗ'"
   ]
  },
  {
   "cell_type": "code",
   "execution_count": null,
   "metadata": {},
   "outputs": [],
   "source": [
    "# load df\n",
    "arxeio_anathesi = fd.askopenfilename()\n",
    "anathesi_df = pd.read_excel(arxeio_anathesi, dtype=str)"
   ]
  },
  {
   "cell_type": "code",
   "execution_count": null,
   "metadata": {},
   "outputs": [],
   "source": [
    "# Map Lawyers\n",
    "anathesi_df = map_lawyer_info(anathesi_df, mapping_dikigoron_excel_file, 0, 1, 'Στοιχεία_Δικηγόρου')\n",
    "anathesi_df = map_lawyer_info(anathesi_df, mapping_dikigoron_excel_file, 2, 0, 'Ονοματεπώνυμο_Δικηγόρου')\n"
   ]
  },
  {
   "cell_type": "code",
   "execution_count": null,
   "metadata": {},
   "outputs": [],
   "source": [
    "# Map Hours\n",
    "anathesi_df = assign_hours(anathesi_df)\n",
    "anathesi_df = get_day_name(anathesi_df)"
   ]
  },
  {
   "cell_type": "code",
   "execution_count": null,
   "metadata": {},
   "outputs": [],
   "source": [
    "# Clean Anathesi Column\n",
    "anathesi_df = clean_anathesi(anathesi_df,anathesi_word)\n",
    "# Clean Anathesi List\n",
    "# anathesi_list = list(anathesi_df['Ανάθεση'].apply(lambda x : str(x).split()[0].replace(\"η\",\"\").replace(\"ης\",\"\")))"
   ]
  },
  {
   "cell_type": "code",
   "execution_count": null,
   "metadata": {},
   "outputs": [],
   "source": [
    "# Clean ΓΑΚ,ΕΑΚ\n",
    "...\n"
   ]
  },
  {
   "cell_type": "code",
   "execution_count": null,
   "metadata": {},
   "outputs": [],
   "source": [
    "# Get Folders\n",
    "...\n",
    "\n",
    "# Create df1 with paths to folders\n",
    "\n",
    "# Create rest dfs\n",
    "\n",
    "# Functions for df4 # Synartiseis\n",
    "\n",
    "# Functions for df5 #Checks"
   ]
  },
  {
   "cell_type": "code",
   "execution_count": null,
   "metadata": {},
   "outputs": [],
   "source": [
    "\n",
    "\n"
   ]
  }
 ],
 "metadata": {
  "kernelspec": {
   "display_name": "Python 3",
   "language": "python",
   "name": "python3"
  },
  "language_info": {
   "codemirror_mode": {
    "name": "ipython",
    "version": 3
   },
   "file_extension": ".py",
   "mimetype": "text/x-python",
   "name": "python",
   "nbconvert_exporter": "python",
   "pygments_lexer": "ipython3",
   "version": "3.11.5"
  },
  "orig_nbformat": 4
 },
 "nbformat": 4,
 "nbformat_minor": 2
}
