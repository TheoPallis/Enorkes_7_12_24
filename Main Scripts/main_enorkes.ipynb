{
 "cells": [
  {
   "cell_type": "code",
   "execution_count": null,
   "metadata": {},
   "outputs": [],
   "source": [
    "# 1) Initial Mappings\n",
    "# import lists day_dict,month_dict,hours,martyras1a....,AITHOUSA,\n",
    "import sys\n",
    "sys.path.append(\"..\") \n",
    "import os\n",
    "import pandas as pd\n",
    "import numpy as np\n",
    "import re\n",
    "from Helper_Scripts.Preprocessing.Mappings.Dikigoroi.map_lawyer_info import map_lawyer_info\n",
    "from Helper_Scripts.Preprocessing.Mappings.Days.get_day_name import map_day_name\n",
    "from Helper_Scripts.Preprocessing.Mappings.Hours.assign_hours import assign_hours\n",
    "from Helper_Scripts.Preprocessing.Formatting.formatting import clean_anathesi_column,remove_nans\n",
    "from Helper_Scripts.Folder_Search.folder_search import get_all_folders\n",
    "from Helper_Scripts.Folder_Search.generate_search_mappings import generate_mappings_for_folder_search\n",
    "from Helper_Scripts.DF_Columns.df1 import create_path_df,create_shared_paths\n",
    "out_path = r\"C:\\Users\\pallist\\Desktop\\ΤΡΕΧΟΝΤΑ\\Testing Folder\\ΦΑΚΕΛΟΙ ΕΝΟΡΚΩΝ\\Results\" \n",
    "from tkinter import filedialog as fd\n",
    "mode = 'number'\n",
    "anathesi_column = 'Ανάθεση'\n",
    "anathesi_word = 'ΑΝΑΘΕΣΗ'\n",
    "mapping_dikigoron_excel_file = os.path.join('..', 'Data', 'Mappings', 'ΛΙΣΤΑ ΔΙΚΗΓΟΡΩΝ ΕΝΟΡΚΩΝ.xlsx')\n",
    "path_to_search_enorkes = r\"C:\\Users\\pallist\\Desktop\\ΤΡΕΧΟΝΤΑ\\Testing Folder\""
   ]
  },
  {
   "cell_type": "code",
   "execution_count": null,
   "metadata": {},
   "outputs": [],
   "source": [
    "# load df\n",
    "arxeio_anathesi = fd.askopenfilename()\n",
    "# arxeio_anathesi = r\"C:\\Users\\pallist\\Desktop\\ΤΡΕΧΟΝΤΑ\\4) Ένορκες\\6_παλιές_5_1_24.xlsx\"\n",
    "anathesi_df = pd.read_excel(arxeio_anathesi, dtype=str)"
   ]
  },
  {
   "cell_type": "code",
   "execution_count": null,
   "metadata": {},
   "outputs": [],
   "source": [
    "# Preprocessing\n",
    "# Μαp info of lawyers\n",
    "anathesi_df = map_lawyer_info(anathesi_df,mapping_dikigoron_excel_file, 0, 1, 'Στοιχεία_Δικηγόρου')\n",
    "# Μαp full name of lawyers\n",
    "anathesi_df = map_lawyer_info(anathesi_df,mapping_dikigoron_excel_file , 2, 0, 'Ονοματεπώνυμο_Δικηγόρου')\n",
    "# Map Days & Hours\n",
    "anathesi_df = map_day_name(anathesi_df)\n",
    "anathesi_df = assign_hours(anathesi_df)\n",
    "# Clean Anathesi Column\n",
    "anathesi_df = clean_anathesi_column(anathesi_df,anathesi_column,anathesi_word)\n",
    "# Clean ΓΑΚ,ΕΑΚ\n",
    "anathesi_df = remove_nans(anathesi_df,'ΓΑΚ')\n",
    "anathesi_df = remove_nans(anathesi_df,'ΕΑΚ')"
   ]
  },
  {
   "cell_type": "code",
   "execution_count": null,
   "metadata": {},
   "outputs": [],
   "source": [
    "# Create path df\n",
    "sheet_df = create_path_df(anathesi_df)\n",
    "# Generate folder search mappings\n",
    "list_ofeileton,mapping_anatheseis,mapping_kodikoi,mapping_kodikos_check =  generate_mappings_for_folder_search(anathesi_df)\n",
    "# Get and copy the path of the enorkes in the test folder\n",
    "mapping_files = get_all_folders(\n",
    "path_to_search_enorkes,\n",
    "list_ofeileton,\n",
    "sheet_df,\n",
    "out_path,\n",
    "mapping_anatheseis,\n",
    "mapping_kodikoi,\n",
    "mapping_kodikos_check,\n",
    "mode\n",
    ")\n",
    "# Get all of the found files\n",
    "file_list = [mapping_files.get(folder_name, \"-\") for folder_name in list_ofeileton]\n",
    "# Add DEDDHE Scandocs\n",
    "sheet_df = create_shared_paths(sheet_df)"
   ]
  },
  {
   "cell_type": "code",
   "execution_count": null,
   "metadata": {},
   "outputs": [],
   "source": [
    "# Get date katathesis and create anafora_df\n"
   ]
  },
  {
   "cell_type": "code",
   "execution_count": null,
   "metadata": {},
   "outputs": [],
   "source": [
    "# Extract text and create kliseis_df\n",
    "\n",
    "# Create functions for df4 # Synartiseis\n",
    "\n",
    "# Functions for df5 #Checks"
   ]
  },
  {
   "cell_type": "code",
   "execution_count": null,
   "metadata": {},
   "outputs": [],
   "source": [
    "\n",
    "\n"
   ]
  }
 ],
 "metadata": {
  "kernelspec": {
   "display_name": "Python 3",
   "language": "python",
   "name": "python3"
  },
  "language_info": {
   "codemirror_mode": {
    "name": "ipython",
    "version": 3
   },
   "file_extension": ".py",
   "mimetype": "text/x-python",
   "name": "python",
   "nbconvert_exporter": "python",
   "pygments_lexer": "ipython3",
   "version": "3.11.5"
  },
  "orig_nbformat": 4
 },
 "nbformat": 4,
 "nbformat_minor": 2
}
